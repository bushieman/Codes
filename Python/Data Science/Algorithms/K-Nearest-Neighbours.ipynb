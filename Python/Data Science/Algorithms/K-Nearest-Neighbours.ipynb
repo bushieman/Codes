{
 "cells": [
  {
   "cell_type": "code",
   "execution_count": 493,
   "source": [
    "import csv\r\n",
    "import math\r\n",
    "import operator\r\n",
    "import random"
   ],
   "outputs": [],
   "metadata": {}
  },
  {
   "cell_type": "code",
   "execution_count": 494,
   "source": [
    "def loadDataset(filename, split, trainingSet=[], testSet=[]):\r\n",
    "    with open(filename, 'r') as csvfile:\r\n",
    "        lines = csv.reader(csvfile)\r\n",
    "        dataset = list(lines)\r\n",
    "        for x in range(len(dataset)):\r\n",
    "            for y in range(4):\r\n",
    "                dataset[x][y] = float(dataset[x][y])\r\n",
    "            if random.random() < split:\r\n",
    "                trainingSet.append(dataset[x])\r\n",
    "            else:\r\n",
    "                testSet.append(dataset[x])"
   ],
   "outputs": [],
   "metadata": {}
  },
  {
   "cell_type": "code",
   "execution_count": 495,
   "source": [
    "trainingSet = []\r\n",
    "testSet = []\r\n",
    "split = 0.76\r\n",
    "loadDataset(r'iris.csv', split, trainingSet, testSet)\r\n",
    "print('Train: ' + str(len(trainingSet)))\r\n",
    "print('Test: ' + str(len(testSet)))"
   ],
   "outputs": [
    {
     "output_type": "stream",
     "name": "stdout",
     "text": [
      "Train: 40\n",
      "Test: 10\n"
     ]
    }
   ],
   "metadata": {}
  },
  {
   "cell_type": "code",
   "execution_count": 496,
   "source": [
    "# Euclidean distance\r\n",
    "def euclideanDistance(point1, point2, length=3):\r\n",
    "    distance = 0\r\n",
    "    for i in range(length):\r\n",
    "        distance += pow(point2[i] - point1[1], 2)\r\n",
    "    return math.sqrt(distance)"
   ],
   "outputs": [],
   "metadata": {}
  },
  {
   "cell_type": "code",
   "execution_count": 497,
   "source": [
    "def getNeighbors(training_data, testing_instance, k=1):\r\n",
    "    distances = []\r\n",
    "    neighbors = []\r\n",
    "    length = len(training_data)\r\n",
    "    for i in range(length):\r\n",
    "        distance = euclideanDistance(training_data[i], testing_instance)\r\n",
    "        distances.append([training_data[i], distance])\r\n",
    "    distances.sort(key=operator.itemgetter(1))\r\n",
    "    for i in range(k):\r\n",
    "        neighbors.append(distances[i][0])\r\n",
    "    return neighbors"
   ],
   "outputs": [],
   "metadata": {}
  },
  {
   "cell_type": "code",
   "execution_count": 498,
   "source": [
    "training_data = [[2, 2, 2, 'a'], [4, 4, 4, 'b'], [5.4, 5.4, 5.4, 'c']]\r\n",
    "testing_instance = [5, 5, 5]\r\n",
    "neighbors = getNeighbors(training_data, testing_instance)\r\n",
    "print('Instance: ' + str(testing_instance), 'Closest point: ' + str(neighbors))"
   ],
   "outputs": [
    {
     "output_type": "stream",
     "name": "stdout",
     "text": [
      "Instance: [5, 5, 5] Closest point: [[5.4, 5.4, 5.4, 'c']]\n"
     ]
    }
   ],
   "metadata": {}
  },
  {
   "cell_type": "code",
   "execution_count": 499,
   "source": [
    "training_data = [[2, 2, 2, 'a'], [4, 4, 4, 'b'], [5.4, 5.4, 5.4, 'c']]\r\n",
    "testing_instance = [5, 5, 5]\r\n",
    "k = 2\r\n",
    "neighbors = getNeighbors(training_data, testing_instance, k)\r\n",
    "print('Instance: ' + str(testing_instance), 'Closest ' + str(k) + ' points: ' + str(neighbors))"
   ],
   "outputs": [
    {
     "output_type": "stream",
     "name": "stdout",
     "text": [
      "Instance: [5, 5, 5] Closest 2 points: [[5.4, 5.4, 5.4, 'c'], [4, 4, 4, 'b']]\n"
     ]
    }
   ],
   "metadata": {}
  },
  {
   "cell_type": "code",
   "execution_count": 500,
   "source": [
    "def getResponse(neighbors):\r\n",
    "    classVotes = {}\r\n",
    "    for i in range(len(neighbors)):\r\n",
    "        response = neighbors[i][-1]\r\n",
    "        if response in classVotes:\r\n",
    "            classVotes[response] += 1\r\n",
    "        else:\r\n",
    "            classVotes[response] = 1\r\n",
    "    sortedVotes = sorted(classVotes.items(), key=operator.itemgetter(1), reverse=True)\r\n",
    "    return sortedVotes[0][0]"
   ],
   "outputs": [],
   "metadata": {}
  },
  {
   "cell_type": "code",
   "execution_count": 501,
   "source": [
    "neighbors = [[1, 1, 1, 'a'], [2, 2, 2, 'a'], [3, 3, 3, 'b']]\r\n",
    "print(getResponse(neighbors))"
   ],
   "outputs": [
    {
     "output_type": "stream",
     "name": "stdout",
     "text": [
      "a\n"
     ]
    }
   ],
   "metadata": {}
  },
  {
   "cell_type": "code",
   "execution_count": 502,
   "source": [
    "def getAccuracy(testset, predictions):\r\n",
    "    correct = sum(testset[i][-1] == predictions[i] for i in range(len(testset)))\r\n",
    "    return (correct/float(len(testset))) * 100 "
   ],
   "outputs": [],
   "metadata": {}
  },
  {
   "cell_type": "code",
   "execution_count": 503,
   "source": [
    "testset = [[1, 1, 1, 'a'], [2, 2, 2, 'a'], [3, 3, 3, 'b']]\r\n",
    "predictions = ['a', 'a', 'a']\r\n",
    "accuracy = getAccuracy(testset, predictions)\r\n",
    "print(accuracy)"
   ],
   "outputs": [
    {
     "output_type": "stream",
     "name": "stdout",
     "text": [
      "66.66666666666666\n"
     ]
    }
   ],
   "metadata": {}
  },
  {
   "cell_type": "code",
   "execution_count": 504,
   "source": [
    "def main():\r\n",
    "    trainingSet = []\r\n",
    "    testSet = []\r\n",
    "    split = 0.76\r\n",
    "    predictions = []\r\n",
    "    k = 3\r\n",
    "    loadDataset(r'iris.csv', split, trainingSet, testSet)\r\n",
    "    print('Train: ' + str(len(trainingSet)))\r\n",
    "    print('Test: ' + str(len(testSet)))\r\n",
    "    for i in range(len(testSet)):\r\n",
    "        neighbors = getNeighbors(trainingSet, testSet[i], k)\r\n",
    "        result = getResponse(neighbors)\r\n",
    "        predictions.append(result)\r\n",
    "        print('Predicted=' + str(result) + ', actual=' + str(testSet[i][-1]))\r\n",
    "    accuracy = getAccuracy(testSet, predictions)\r\n",
    "    print('Accuracy: ' + str(accuracy) + '%')\r\n",
    "    \r\n",
    "main()\r\n",
    "    "
   ],
   "outputs": [
    {
     "output_type": "stream",
     "name": "stdout",
     "text": [
      "Train: 39\n",
      "Test: 11\n",
      "[[4.438747872550238, 3.7026114079567156, 1.392436401603738, 0.155817369669899, 'Iris-setosa'], [4.029275043545472, 2.2847105365989426, 1.3351609832472833, 0.5489866887188687, 'Iris-setosa'], [4.131426943929544, 3.4182268219350394, 1.886383328900857, 0.7519077616648743, 'Iris-setosa'], [5.364614052853935, 3.7287934937376406, 1.4374800053181174, 0.8413735493168728, 'Iris-setosa'], [4.208430258441613, 3.3541509594983894, 1.9014649357654683, 0.961672972605098, 'Iris-setosa'], [5.369390600395904, 2.775953863534106, 1.001926949792523, 0.34826636542719713, 'Iris-setosa'], [5.097834124049086, 3.7328955020500234, 1.1037126585578467, 0.2939511256241618, 'Iris-setosa'], [5.373112961810461, 3.680052960513409, 1.5681631044512983, 0.5422128714447274, 'Iris-setosa'], [5.181345703842265, 2.1679235406253854, 1.9269413720687898, 0.19562040746897402, 'Iris-setosa'], [5.411279298045722, 2.8675748465563515, 1.3023749560583577, 0.45955947645466555, 'Iris-setosa'], [4.781803095700177, 3.1118204998152983, 1.9155220750751754, 0.6382363467666198, 'Iris-setosa']]\n",
      "Predicted=Iris-setosa, actual=Iris-setosa\n",
      "Predicted=Iris-setosa, actual=Iris-setosa\n",
      "Predicted=Iris-setosa, actual=Iris-setosa\n",
      "Predicted=Iris-setosa, actual=Iris-setosa\n",
      "Predicted=Iris-setosa, actual=Iris-setosa\n",
      "Predicted=Iris-setosa, actual=Iris-setosa\n",
      "Predicted=Iris-setosa, actual=Iris-setosa\n",
      "Predicted=Iris-setosa, actual=Iris-setosa\n",
      "Predicted=Iris-setosa, actual=Iris-setosa\n",
      "Predicted=Iris-setosa, actual=Iris-setosa\n",
      "Predicted=Iris-setosa, actual=Iris-setosa\n",
      "Accuracy: 100.0%\n"
     ]
    }
   ],
   "metadata": {}
  },
  {
   "cell_type": "code",
   "execution_count": null,
   "source": [],
   "outputs": [],
   "metadata": {}
  },
  {
   "cell_type": "code",
   "execution_count": null,
   "source": [],
   "outputs": [],
   "metadata": {}
  }
 ],
 "metadata": {
  "orig_nbformat": 4,
  "language_info": {
   "name": "python"
  }
 },
 "nbformat": 4,
 "nbformat_minor": 2
}