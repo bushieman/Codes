{
 "cells": [
  {
   "cell_type": "markdown",
   "metadata": {},
   "source": [
    "<img src='./resources/cnn_model.png' alt='#'></img>"
   ]
  },
  {
   "cell_type": "code",
   "execution_count": 1,
   "metadata": {},
   "outputs": [],
   "source": [
    "import torch\n",
    "import torch.nn as nn\n",
    "\n",
    "device = torch.device('cuda' if torch.cuda.is_available() else 'cpu')\n",
    "\n",
    "class ConvNet(nn.Module):\n",
    "    def __init__(self):\n",
    "        super(ConvNet, self).__init__()\n",
    "        self.conv1 = nn.Conv2d(3, 6, 5) # 3 is input size i.e. color channels, 6 is ouput size, 5 is kernel size of 5*5\n",
    "        self.pool = nn.MaxPool2d(2, 2) # 2 is kernel size of 2*2, 2 is stride i.e slide 2 steps sideways\n",
    "        self.conv2 = nn.Conv2d(6, 16, 5) # 6 is input size of the color channel i.e output of first layer, 16 is output size, 5 is kernel size of 5*5\n",
    "        self.fc1 = nn.Linear(16 * 5 * 5, 120)\n",
    "        self.fc2 = nn.Linear(120, 84)\n",
    "        self.fc3 = nn.Linear(84, 10)\n",
    "        # Research: Are output sizes between layers random?\n",
    "\n",
    "    def forward(self, x):\n",
    "        # -> n, 3, 32, 32\n",
    "        x = self.pool(F.relu(self.conv1(x)))  # -> n, 6, 14, 14\n",
    "        x = self.pool(F.relu(self.conv2(x)))  # -> n, 16, 5, 5\n",
    "        x = x.view(-1, 16 * 5 * 5)            # -> n, 400 #* flattening\n",
    "        x = F.relu(self.fc1(x))               # -> n, 120\n",
    "        x = F.relu(self.fc2(x))               # -> n, 84\n",
    "        x = self.fc3(x)                       # -> n, 10\n",
    "        return x\n",
    "\n",
    "model = ConvNet().to(device)"
   ]
  },
  {
   "cell_type": "markdown",
   "metadata": {},
   "source": [
    "<img src='./resources/cnn_layers_inputs.png' alt='#'></img>"
   ]
  },
  {
   "cell_type": "code",
   "execution_count": 2,
   "metadata": {},
   "outputs": [],
   "source": [
    "\n",
    "# # we use the image formula above to calculate the inputs of the subsequent layer in a model\n",
    "\n",
    "# self.conv1 = nn.Conv2d(3, 6, 5) # 3 is input size i.e. color channels, 6 is ouput size, 5 is kernel size of 5*5\n",
    "# self.pool = nn.MaxPool2d(2, 2) # 2 is kernel size of 2*2, 2 is stride i.e slide 2 steps sideways\n",
    "# self.conv2 = nn.Conv2d(6, 16, 5) # 6 is input size of the color channel i.e output of first layer, 16 is output size, 5 is kernel size of 5*5\n",
    "# self.fc1 = nn.Linear(16 * 5 * 5, 120)\n",
    "# self.fc2 = nn.Linear(120, 84)\n",
    "# self.fc3 = nn.Linear(84, 10)\n",
    "# # Research: Are output sizes between layers random?\n",
    "\n",
    "\n",
    "# # -> n, 3, 32, 32\n",
    "# x = self.pool(F.relu(self.conv1(x)))  # -> n, 6, 14, 14\n",
    "# x = self.pool(F.relu(self.conv2(x)))  # -> n, 16, 5, 5\n",
    "# x = x.view(-1, 16 * 5 * 5)            # -> n, 400\n",
    "# x = F.relu(self.fc1(x))               # -> n, 120\n",
    "# x = F.relu(self.fc2(x))               # -> n, 84\n",
    "# x = self.fc3(x)                       # -> n, 10"
   ]
  }
 ],
 "metadata": {
  "interpreter": {
   "hash": "1e915f0a29dc84041eaeb02b7b1a21c440e37a87b61d44d5e84a515737dc82bc"
  },
  "kernelspec": {
   "display_name": "Python 3.8.5 64-bit ('base': conda)",
   "language": "python",
   "name": "python3"
  },
  "language_info": {
   "codemirror_mode": {
    "name": "ipython",
    "version": 3
   },
   "file_extension": ".py",
   "mimetype": "text/x-python",
   "name": "python",
   "nbconvert_exporter": "python",
   "pygments_lexer": "ipython3",
   "version": "3.8.5"
  },
  "orig_nbformat": 4
 },
 "nbformat": 4,
 "nbformat_minor": 2
}
