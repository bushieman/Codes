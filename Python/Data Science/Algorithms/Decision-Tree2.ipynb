{
 "cells": [
  {
   "cell_type": "code",
   "execution_count": 129,
   "source": [
    "import numpy as np\r\n",
    "import pandas as pd"
   ],
   "outputs": [],
   "metadata": {}
  },
  {
   "cell_type": "code",
   "execution_count": 130,
   "source": [
    "\r\n",
    "data = [\r\n",
    "    [1, 30, 'No'],\r\n",
    "    [1, 15, 'No'],\r\n",
    "    [1, 5, 'No'],\r\n",
    "    [0, 10, 'No'],\r\n",
    "    [0, 5, 'No'],\r\n",
    "    [0, 15, 'Yes'],\r\n",
    "    [0, 20, 'Yes'],\r\n",
    "    [0, 25, 'Yes'],\r\n",
    "    [0, 30, 'Yes'],\r\n",
    "    [0, 30, 'Yes'],\r\n",
    "]"
   ],
   "outputs": [],
   "metadata": {}
  },
  {
   "cell_type": "code",
   "execution_count": 131,
   "source": [
    "data"
   ],
   "outputs": [
    {
     "output_type": "execute_result",
     "data": {
      "text/plain": [
       "[[1, 30, 'No'],\n",
       " [1, 15, 'No'],\n",
       " [1, 5, 'No'],\n",
       " [0, 10, 'No'],\n",
       " [0, 5, 'No'],\n",
       " [0, 15, 'Yes'],\n",
       " [0, 20, 'Yes'],\n",
       " [0, 25, 'Yes'],\n",
       " [0, 30, 'Yes'],\n",
       " [0, 30, 'Yes']]"
      ]
     },
     "metadata": {},
     "execution_count": 131
    }
   ],
   "metadata": {}
  },
  {
   "cell_type": "code",
   "execution_count": 132,
   "source": [
    "train_data = pd.DataFrame(data)"
   ],
   "outputs": [],
   "metadata": {}
  },
  {
   "cell_type": "code",
   "execution_count": 133,
   "source": [
    "train_data"
   ],
   "outputs": [
    {
     "output_type": "execute_result",
     "data": {
      "text/plain": [
       "   0   1    2\n",
       "0  1  30   No\n",
       "1  1  15   No\n",
       "2  1   5   No\n",
       "3  0  10   No\n",
       "4  0   5   No\n",
       "5  0  15  Yes\n",
       "6  0  20  Yes\n",
       "7  0  25  Yes\n",
       "8  0  30  Yes\n",
       "9  0  30  Yes"
      ],
      "text/html": [
       "<div>\n",
       "<style scoped>\n",
       "    .dataframe tbody tr th:only-of-type {\n",
       "        vertical-align: middle;\n",
       "    }\n",
       "\n",
       "    .dataframe tbody tr th {\n",
       "        vertical-align: top;\n",
       "    }\n",
       "\n",
       "    .dataframe thead th {\n",
       "        text-align: right;\n",
       "    }\n",
       "</style>\n",
       "<table border=\"1\" class=\"dataframe\">\n",
       "  <thead>\n",
       "    <tr style=\"text-align: right;\">\n",
       "      <th></th>\n",
       "      <th>0</th>\n",
       "      <th>1</th>\n",
       "      <th>2</th>\n",
       "    </tr>\n",
       "  </thead>\n",
       "  <tbody>\n",
       "    <tr>\n",
       "      <th>0</th>\n",
       "      <td>1</td>\n",
       "      <td>30</td>\n",
       "      <td>No</td>\n",
       "    </tr>\n",
       "    <tr>\n",
       "      <th>1</th>\n",
       "      <td>1</td>\n",
       "      <td>15</td>\n",
       "      <td>No</td>\n",
       "    </tr>\n",
       "    <tr>\n",
       "      <th>2</th>\n",
       "      <td>1</td>\n",
       "      <td>5</td>\n",
       "      <td>No</td>\n",
       "    </tr>\n",
       "    <tr>\n",
       "      <th>3</th>\n",
       "      <td>0</td>\n",
       "      <td>10</td>\n",
       "      <td>No</td>\n",
       "    </tr>\n",
       "    <tr>\n",
       "      <th>4</th>\n",
       "      <td>0</td>\n",
       "      <td>5</td>\n",
       "      <td>No</td>\n",
       "    </tr>\n",
       "    <tr>\n",
       "      <th>5</th>\n",
       "      <td>0</td>\n",
       "      <td>15</td>\n",
       "      <td>Yes</td>\n",
       "    </tr>\n",
       "    <tr>\n",
       "      <th>6</th>\n",
       "      <td>0</td>\n",
       "      <td>20</td>\n",
       "      <td>Yes</td>\n",
       "    </tr>\n",
       "    <tr>\n",
       "      <th>7</th>\n",
       "      <td>0</td>\n",
       "      <td>25</td>\n",
       "      <td>Yes</td>\n",
       "    </tr>\n",
       "    <tr>\n",
       "      <th>8</th>\n",
       "      <td>0</td>\n",
       "      <td>30</td>\n",
       "      <td>Yes</td>\n",
       "    </tr>\n",
       "    <tr>\n",
       "      <th>9</th>\n",
       "      <td>0</td>\n",
       "      <td>30</td>\n",
       "      <td>Yes</td>\n",
       "    </tr>\n",
       "  </tbody>\n",
       "</table>\n",
       "</div>"
      ]
     },
     "metadata": {},
     "execution_count": 133
    }
   ],
   "metadata": {}
  },
  {
   "cell_type": "code",
   "execution_count": 134,
   "source": [
    "train_data.columns = ['Rain', 'Time', 'Walk']"
   ],
   "outputs": [],
   "metadata": {}
  },
  {
   "cell_type": "code",
   "execution_count": 135,
   "source": [
    "train_data"
   ],
   "outputs": [
    {
     "output_type": "execute_result",
     "data": {
      "text/plain": [
       "   Rain  Time Walk\n",
       "0     1    30   No\n",
       "1     1    15   No\n",
       "2     1     5   No\n",
       "3     0    10   No\n",
       "4     0     5   No\n",
       "5     0    15  Yes\n",
       "6     0    20  Yes\n",
       "7     0    25  Yes\n",
       "8     0    30  Yes\n",
       "9     0    30  Yes"
      ],
      "text/html": [
       "<div>\n",
       "<style scoped>\n",
       "    .dataframe tbody tr th:only-of-type {\n",
       "        vertical-align: middle;\n",
       "    }\n",
       "\n",
       "    .dataframe tbody tr th {\n",
       "        vertical-align: top;\n",
       "    }\n",
       "\n",
       "    .dataframe thead th {\n",
       "        text-align: right;\n",
       "    }\n",
       "</style>\n",
       "<table border=\"1\" class=\"dataframe\">\n",
       "  <thead>\n",
       "    <tr style=\"text-align: right;\">\n",
       "      <th></th>\n",
       "      <th>Rain</th>\n",
       "      <th>Time</th>\n",
       "      <th>Walk</th>\n",
       "    </tr>\n",
       "  </thead>\n",
       "  <tbody>\n",
       "    <tr>\n",
       "      <th>0</th>\n",
       "      <td>1</td>\n",
       "      <td>30</td>\n",
       "      <td>No</td>\n",
       "    </tr>\n",
       "    <tr>\n",
       "      <th>1</th>\n",
       "      <td>1</td>\n",
       "      <td>15</td>\n",
       "      <td>No</td>\n",
       "    </tr>\n",
       "    <tr>\n",
       "      <th>2</th>\n",
       "      <td>1</td>\n",
       "      <td>5</td>\n",
       "      <td>No</td>\n",
       "    </tr>\n",
       "    <tr>\n",
       "      <th>3</th>\n",
       "      <td>0</td>\n",
       "      <td>10</td>\n",
       "      <td>No</td>\n",
       "    </tr>\n",
       "    <tr>\n",
       "      <th>4</th>\n",
       "      <td>0</td>\n",
       "      <td>5</td>\n",
       "      <td>No</td>\n",
       "    </tr>\n",
       "    <tr>\n",
       "      <th>5</th>\n",
       "      <td>0</td>\n",
       "      <td>15</td>\n",
       "      <td>Yes</td>\n",
       "    </tr>\n",
       "    <tr>\n",
       "      <th>6</th>\n",
       "      <td>0</td>\n",
       "      <td>20</td>\n",
       "      <td>Yes</td>\n",
       "    </tr>\n",
       "    <tr>\n",
       "      <th>7</th>\n",
       "      <td>0</td>\n",
       "      <td>25</td>\n",
       "      <td>Yes</td>\n",
       "    </tr>\n",
       "    <tr>\n",
       "      <th>8</th>\n",
       "      <td>0</td>\n",
       "      <td>30</td>\n",
       "      <td>Yes</td>\n",
       "    </tr>\n",
       "    <tr>\n",
       "      <th>9</th>\n",
       "      <td>0</td>\n",
       "      <td>30</td>\n",
       "      <td>Yes</td>\n",
       "    </tr>\n",
       "  </tbody>\n",
       "</table>\n",
       "</div>"
      ]
     },
     "metadata": {},
     "execution_count": 135
    }
   ],
   "metadata": {}
  },
  {
   "cell_type": "code",
   "execution_count": 136,
   "source": [
    "walk = pd.get_dummies(train_data['Walk'], drop_first=True)\r\n",
    "time = pd.get_dummies(train_data['Time']>15, drop_first=True)\r\n",
    "train_data = pd.concat([time, train_data, walk], axis=1)\r\n",
    "train_data.drop(['Walk', 'Time'], axis=1, inplace=True)\r\n",
    "train_data.rename(columns={'Yes': 'Walk', True: 'Time > 15'}, inplace=True)\r\n",
    "train_data"
   ],
   "outputs": [
    {
     "output_type": "execute_result",
     "data": {
      "text/plain": [
       "   Time > 15  Rain  Walk\n",
       "0          1     1     0\n",
       "1          0     1     0\n",
       "2          0     1     0\n",
       "3          0     0     0\n",
       "4          0     0     0\n",
       "5          0     0     1\n",
       "6          1     0     1\n",
       "7          1     0     1\n",
       "8          1     0     1\n",
       "9          1     0     1"
      ],
      "text/html": [
       "<div>\n",
       "<style scoped>\n",
       "    .dataframe tbody tr th:only-of-type {\n",
       "        vertical-align: middle;\n",
       "    }\n",
       "\n",
       "    .dataframe tbody tr th {\n",
       "        vertical-align: top;\n",
       "    }\n",
       "\n",
       "    .dataframe thead th {\n",
       "        text-align: right;\n",
       "    }\n",
       "</style>\n",
       "<table border=\"1\" class=\"dataframe\">\n",
       "  <thead>\n",
       "    <tr style=\"text-align: right;\">\n",
       "      <th></th>\n",
       "      <th>Time &gt; 15</th>\n",
       "      <th>Rain</th>\n",
       "      <th>Walk</th>\n",
       "    </tr>\n",
       "  </thead>\n",
       "  <tbody>\n",
       "    <tr>\n",
       "      <th>0</th>\n",
       "      <td>1</td>\n",
       "      <td>1</td>\n",
       "      <td>0</td>\n",
       "    </tr>\n",
       "    <tr>\n",
       "      <th>1</th>\n",
       "      <td>0</td>\n",
       "      <td>1</td>\n",
       "      <td>0</td>\n",
       "    </tr>\n",
       "    <tr>\n",
       "      <th>2</th>\n",
       "      <td>0</td>\n",
       "      <td>1</td>\n",
       "      <td>0</td>\n",
       "    </tr>\n",
       "    <tr>\n",
       "      <th>3</th>\n",
       "      <td>0</td>\n",
       "      <td>0</td>\n",
       "      <td>0</td>\n",
       "    </tr>\n",
       "    <tr>\n",
       "      <th>4</th>\n",
       "      <td>0</td>\n",
       "      <td>0</td>\n",
       "      <td>0</td>\n",
       "    </tr>\n",
       "    <tr>\n",
       "      <th>5</th>\n",
       "      <td>0</td>\n",
       "      <td>0</td>\n",
       "      <td>1</td>\n",
       "    </tr>\n",
       "    <tr>\n",
       "      <th>6</th>\n",
       "      <td>1</td>\n",
       "      <td>0</td>\n",
       "      <td>1</td>\n",
       "    </tr>\n",
       "    <tr>\n",
       "      <th>7</th>\n",
       "      <td>1</td>\n",
       "      <td>0</td>\n",
       "      <td>1</td>\n",
       "    </tr>\n",
       "    <tr>\n",
       "      <th>8</th>\n",
       "      <td>1</td>\n",
       "      <td>0</td>\n",
       "      <td>1</td>\n",
       "    </tr>\n",
       "    <tr>\n",
       "      <th>9</th>\n",
       "      <td>1</td>\n",
       "      <td>0</td>\n",
       "      <td>1</td>\n",
       "    </tr>\n",
       "  </tbody>\n",
       "</table>\n",
       "</div>"
      ]
     },
     "metadata": {},
     "execution_count": 136
    }
   ],
   "metadata": {}
  },
  {
   "cell_type": "code",
   "execution_count": 137,
   "source": [
    "train_data.columns[-1]"
   ],
   "outputs": [
    {
     "output_type": "execute_result",
     "data": {
      "text/plain": [
       "'Walk'"
      ]
     },
     "metadata": {},
     "execution_count": 137
    }
   ],
   "metadata": {}
  },
  {
   "cell_type": "code",
   "execution_count": 138,
   "source": [
    "class Question:\r\n",
    "    def __init__(self):\r\n",
    "        self.attribute = None\r\n",
    "        self.predict = train_data.columns[-1]\r\n",
    "        self.true_values = []\r\n",
    "        self.false_values = []\r\n",
    "        self.best_info_gain = 0\r\n",
    "        self.best_question = None\r\n",
    "\r\n",
    "    def get_values(self, column):\r\n",
    "        for i in range(len(train_data)):\r\n",
    "            if column[i] == 1:\r\n",
    "                self.true_values.append(train_data[self.predict][i])\r\n",
    "            else:\r\n",
    "                self.false_values.append(train_data[self.predict][i])\r\n",
    "        return self.true_values, self.false_values\r\n",
    "\r\n",
    "    def info_gain(self, true_values, false_values, attributes, predict):\r\n",
    "        ratio = np.bincount(train_data[attributes])/len(train_data[attributes])\r\n",
    "        E_yes = self.entropy(true_values)\r\n",
    "        E_no = self.entropy(false_values)\r\n",
    "        prediction = self.entropy(train_data[predict])\r\n",
    "        total_ent = (ratio[0] * E_no) + (ratio[1] * E_yes)\r\n",
    "        return prediction - float(total_ent)\r\n",
    "\r\n",
    "    def entropy(self, y):\r\n",
    "        instance = np.bincount(y)\r\n",
    "        ratio = instance/len(y)\r\n",
    "        return np.sum([-(item * np.log2(item)) for item in ratio if item > 0])\r\n",
    "\r\n",
    "    def question(self):    \r\n",
    "        for i in range(len(train_data.columns) - 1):\r\n",
    "            self.attribute = train_data.columns[i]\r\n",
    "            true_values, false_values = self.get_values(train_data[self.attribute])\r\n",
    "            info_gain = self.info_gain(true_values, false_values, self.attribute, self.predict)\r\n",
    "            if info_gain > self.best_info_gain:\r\n",
    "                self.best_info_gain = info_gain\r\n",
    "                self.attribute = train_data.columns[i]\r\n",
    "            self.true_values = []\r\n",
    "            self.false_values = []\r\n",
    "            self.best_question = f'Is {self.attribute}'\r\n",
    "        return self.best_question, self.best_info_gain\r\n",
    "    \r\n",
    "\r\n",
    "\r\n"
   ],
   "outputs": [],
   "metadata": {}
  },
  {
   "cell_type": "code",
   "execution_count": 139,
   "source": [
    "question = Question()\r\n",
    "question.question()"
   ],
   "outputs": [
    {
     "output_type": "execute_result",
     "data": {
      "text/plain": [
       "('Is Rain', 0.3958156020033583)"
      ]
     },
     "metadata": {},
     "execution_count": 139
    }
   ],
   "metadata": {}
  }
 ],
 "metadata": {
  "orig_nbformat": 4,
  "language_info": {
   "name": "python",
   "version": "3.7.7",
   "mimetype": "text/x-python",
   "codemirror_mode": {
    "name": "ipython",
    "version": 3
   },
   "pygments_lexer": "ipython3",
   "nbconvert_exporter": "python",
   "file_extension": ".py"
  },
  "kernelspec": {
   "name": "python3",
   "display_name": "Python 3.7.7 32-bit"
  },
  "interpreter": {
   "hash": "319e5249033d18111adf7f80dd5414dd09ab48c55cf96a3f6ffbb1b6a6a181c9"
  }
 },
 "nbformat": 4,
 "nbformat_minor": 2
}