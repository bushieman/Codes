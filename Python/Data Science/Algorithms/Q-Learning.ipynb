{
 "cells": [
  {
   "cell_type": "code",
   "execution_count": 1,
   "source": [
    "import numpy as np"
   ],
   "outputs": [],
   "metadata": {}
  },
  {
   "cell_type": "code",
   "execution_count": 2,
   "source": [
    "# Initialize parameters\r\n",
    "gamma = 0.75\r\n",
    "alpha = 0.9"
   ],
   "outputs": [],
   "metadata": {}
  },
  {
   "cell_type": "code",
   "execution_count": 3,
   "source": [
    "# Define the states\r\n",
    "location_to_state = {\r\n",
    "    'L1': 0,\r\n",
    "    'L2': 1,\r\n",
    "    'L3': 2,\r\n",
    "    'L4': 3,\r\n",
    "    'L5': 4,\r\n",
    "    'L6': 5,\r\n",
    "    'L7': 6,\r\n",
    "    'L8': 7,\r\n",
    "    'L9': 8,\r\n",
    "}"
   ],
   "outputs": [],
   "metadata": {}
  },
  {
   "cell_type": "code",
   "execution_count": 4,
   "source": [
    "# Actions\r\n",
    "actions = [0, 1, 2, 3, 4, 5, 6, 7, 8]"
   ],
   "outputs": [],
   "metadata": {}
  },
  {
   "cell_type": "code",
   "execution_count": 5,
   "source": [
    "rewards = np.array([\r\n",
    "    [0, 1, 0, 0, 0, 0, 0, 0, 0],\r\n",
    "    [1, 0, 1, 0, 0, 0, 0, 0, 0],\r\n",
    "    [0, 1, 0, 0, 0, 1, 0, 0, 0],\r\n",
    "    [0, 0, 0, 0, 0, 0, 1, 0, 0],\r\n",
    "    [0, 1, 0, 0, 0, 0, 0, 1, 0],\r\n",
    "    [0, 0, 1, 0, 0, 0, 0, 0, 0],\r\n",
    "    [0, 0, 0, 1, 0, 0, 0, 1, 0],\r\n",
    "    [0, 0, 0, 0, 1, 0, 1, 0, 1],\r\n",
    "    [0, 0, 0, 0, 0, 0, 0, 1, 0],\r\n",
    "])"
   ],
   "outputs": [],
   "metadata": {}
  },
  {
   "cell_type": "code",
   "execution_count": 6,
   "source": [
    "# Maps indices to locations\r\n",
    "state_to_location = {\r\n",
    "    state: location for location, state in location_to_state.items()\r\n",
    "}"
   ],
   "outputs": [],
   "metadata": {}
  },
  {
   "cell_type": "code",
   "execution_count": 7,
   "source": [
    "state_to_location"
   ],
   "outputs": [
    {
     "output_type": "execute_result",
     "data": {
      "text/plain": [
       "{0: 'L1',\n",
       " 1: 'L2',\n",
       " 2: 'L3',\n",
       " 3: 'L4',\n",
       " 4: 'L5',\n",
       " 5: 'L6',\n",
       " 6: 'L7',\n",
       " 7: 'L8',\n",
       " 8: 'L9'}"
      ]
     },
     "metadata": {},
     "execution_count": 7
    }
   ],
   "metadata": {}
  },
  {
   "cell_type": "code",
   "execution_count": 8,
   "source": [
    "state_to_location[1]"
   ],
   "outputs": [
    {
     "output_type": "execute_result",
     "data": {
      "text/plain": [
       "'L2'"
      ]
     },
     "metadata": {},
     "execution_count": 8
    }
   ],
   "metadata": {}
  },
  {
   "cell_type": "code",
   "execution_count": 9,
   "source": [
    "def get_optimal_route(start_location, end_location):\r\n",
    "    new_rewards = np.copy(rewards)\r\n",
    "    # Get the ending state corresponding to the ending location as given\r\n",
    "    ending_state = location_to_state[end_location]\r\n",
    "    # Set the priority of the given ending state to the highest one\r\n",
    "    new_rewards[ending_state, ending_state] = 999\r\n",
    "    # Initializing Q-Values\r\n",
    "    Q = np.array(np.zeros([9,9]))\r\n",
    "    for _ in range(1000):\r\n",
    "        # Pick up a state randomly\r\n",
    "        current_state = np.random.randint(0,9)\r\n",
    "        # Create a list of playable actions that are only limited to numbers above 1\r\n",
    "        playable_actions = [i for i in range(9) if new_rewards[current_state, i] > 0]\r\n",
    "        # Pick an action randomly from the list of playable actions leading to the next state\r\n",
    "        next_state = np.random.choice(playable_actions, size=1)\r\n",
    "        # Compute the temporal difference\r\n",
    "        TD = new_rewards[current_state, next_state] + gamma * Q[next_state, np.argmax(Q[next_state,])] - Q[current_state, next_state]\r\n",
    "        # Update the Q-Value using the Bellman equation\r\n",
    "        Q[current_state, next_state] += alpha * TD\r\n",
    "    \r\n",
    "    # Initialize the optimal route with the starting location\r\n",
    "    route = [start_location]\r\n",
    "    # since we don't know our next location, initialize it with the start location\r\n",
    "    next_location = start_location\r\n",
    "\r\n",
    "    while next_location != end_location:\r\n",
    "        # Fetch the starting state\r\n",
    "        starting_state = location_to_state[start_location]\r\n",
    "        # Fetch the highest Q-Value pertaining to starting state\r\n",
    "        next_state = np.argmax(Q[starting_state])\r\n",
    "        # For its corresponging location\r\n",
    "        next_location = state_to_location[next_state]\r\n",
    "        route.append(next_location)\r\n",
    "        start_location = next_location\r\n",
    "\r\n",
    "    return route"
   ],
   "outputs": [],
   "metadata": {}
  },
  {
   "cell_type": "code",
   "execution_count": 10,
   "source": [
    "print(get_optimal_route('L3', 'L7'))"
   ],
   "outputs": [],
   "metadata": {}
  },
  {
   "cell_type": "code",
   "execution_count": null,
   "source": [],
   "outputs": [],
   "metadata": {}
  }
 ],
 "metadata": {
  "orig_nbformat": 4,
  "language_info": {
   "name": "python",
   "version": "3.7.7",
   "mimetype": "text/x-python",
   "codemirror_mode": {
    "name": "ipython",
    "version": 3
   },
   "pygments_lexer": "ipython3",
   "nbconvert_exporter": "python",
   "file_extension": ".py"
  },
  "kernelspec": {
   "name": "python3",
   "display_name": "Python 3.7.7 32-bit"
  },
  "interpreter": {
   "hash": "319e5249033d18111adf7f80dd5414dd09ab48c55cf96a3f6ffbb1b6a6a181c9"
  }
 },
 "nbformat": 4,
 "nbformat_minor": 2
}