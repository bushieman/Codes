{
 "cells": [
  {
   "cell_type": "code",
   "execution_count": 583,
   "source": [
    "train_data = [\r\n",
    "    ['Green', 3, 'Mango'],\r\n",
    "    ['Yellow', 3, 'Mango'],\r\n",
    "    ['Red', 1, 'Grape'],\r\n",
    "    ['Red', 1, 'Grape'],\r\n",
    "    ['Yellow', 3, 'Lemon'],\r\n",
    "]"
   ],
   "outputs": [],
   "metadata": {}
  },
  {
   "cell_type": "code",
   "execution_count": 584,
   "source": [
    "header = ['Color', 'Diameter', 'Label']"
   ],
   "outputs": [],
   "metadata": {}
  },
  {
   "cell_type": "code",
   "execution_count": 585,
   "source": [
    "# returns the unique values\r\n",
    "def unique_values(rows, col):\r\n",
    "    return set([row[col] for row in rows]) # set returns only unique values in a given list"
   ],
   "outputs": [],
   "metadata": {}
  },
  {
   "cell_type": "code",
   "execution_count": 586,
   "source": [
    "unique_values(train_data, 0) # unique colors"
   ],
   "outputs": [
    {
     "output_type": "execute_result",
     "data": {
      "text/plain": [
       "{'Green', 'Red', 'Yellow'}"
      ]
     },
     "metadata": {},
     "execution_count": 586
    }
   ],
   "metadata": {}
  },
  {
   "cell_type": "code",
   "execution_count": 587,
   "source": [
    "unique_values(train_data, 1) # unique diameters"
   ],
   "outputs": [
    {
     "output_type": "execute_result",
     "data": {
      "text/plain": [
       "{1, 3}"
      ]
     },
     "metadata": {},
     "execution_count": 587
    }
   ],
   "metadata": {}
  },
  {
   "cell_type": "code",
   "execution_count": 588,
   "source": [
    "unique_values(train_data, 2) # unique label"
   ],
   "outputs": [
    {
     "output_type": "execute_result",
     "data": {
      "text/plain": [
       "{'Grape', 'Lemon', 'Mango'}"
      ]
     },
     "metadata": {},
     "execution_count": 588
    }
   ],
   "metadata": {}
  },
  {
   "cell_type": "code",
   "execution_count": 589,
   "source": [
    "# counts the number of each type of example in a dataset\r\n",
    "def class_counts(rows):\r\n",
    "    counts = {}\r\n",
    "    for row in rows:\r\n",
    "        label = row[-1]\r\n",
    "        if label in counts:\r\n",
    "            counts[label] += 1 \r\n",
    "        else:\r\n",
    "            counts[label] = 1\r\n",
    "    return counts"
   ],
   "outputs": [],
   "metadata": {}
  },
  {
   "cell_type": "code",
   "execution_count": 590,
   "source": [
    "class_counts(train_data)"
   ],
   "outputs": [
    {
     "output_type": "execute_result",
     "data": {
      "text/plain": [
       "{'Mango': 2, 'Grape': 2, 'Lemon': 1}"
      ]
     },
     "metadata": {},
     "execution_count": 590
    }
   ],
   "metadata": {}
  },
  {
   "cell_type": "code",
   "execution_count": 591,
   "source": [
    "def is_numeric(value):\r\n",
    "    return isinstance(value, int) or isinstance(value, float)"
   ],
   "outputs": [],
   "metadata": {}
  },
  {
   "cell_type": "code",
   "execution_count": 592,
   "source": [
    "is_numeric(3)"
   ],
   "outputs": [
    {
     "output_type": "execute_result",
     "data": {
      "text/plain": [
       "True"
      ]
     },
     "metadata": {},
     "execution_count": 592
    }
   ],
   "metadata": {}
  },
  {
   "cell_type": "code",
   "execution_count": 593,
   "source": [
    "is_numeric('cute')"
   ],
   "outputs": [
    {
     "output_type": "execute_result",
     "data": {
      "text/plain": [
       "False"
      ]
     },
     "metadata": {},
     "execution_count": 593
    }
   ],
   "metadata": {}
  },
  {
   "cell_type": "code",
   "execution_count": 594,
   "source": [
    "# printing our question\r\n",
    "class Question:\r\n",
    "    def __init__(self, column, value):\r\n",
    "        self.column = column\r\n",
    "        self.value = value\r\n",
    "\r\n",
    "    def match(self, example):\r\n",
    "        val = example[self.column]\r\n",
    "        if is_numeric(val):\r\n",
    "            return val >= self.value\r\n",
    "        else:\r\n",
    "            return val == self.value\r\n",
    "\r\n",
    "    def __repr__(self):\r\n",
    "        condition = '=='\r\n",
    "        if is_numeric(self.value):\r\n",
    "            condition = '>='\r\n",
    "        return 'is %s %s %s?' % (header[self.column], condition, str(self.value)) "
   ],
   "outputs": [],
   "metadata": {}
  },
  {
   "cell_type": "code",
   "execution_count": 595,
   "source": [
    "Question(1, 3)"
   ],
   "outputs": [
    {
     "output_type": "execute_result",
     "data": {
      "text/plain": [
       "is Diameter >= 3?"
      ]
     },
     "metadata": {},
     "execution_count": 595
    }
   ],
   "metadata": {}
  },
  {
   "cell_type": "code",
   "execution_count": 596,
   "source": [
    "Question(0, 'Green')"
   ],
   "outputs": [
    {
     "output_type": "execute_result",
     "data": {
      "text/plain": [
       "is Color == Green?"
      ]
     },
     "metadata": {},
     "execution_count": 596
    }
   ],
   "metadata": {}
  },
  {
   "cell_type": "code",
   "execution_count": 597,
   "source": [
    "example = train_data[0]\r\n",
    "q = Question(0, 'Green')\r\n",
    "q.match(example)"
   ],
   "outputs": [
    {
     "output_type": "execute_result",
     "data": {
      "text/plain": [
       "True"
      ]
     },
     "metadata": {},
     "execution_count": 597
    }
   ],
   "metadata": {}
  },
  {
   "cell_type": "code",
   "execution_count": 598,
   "source": [
    "def partition(rows, question):\r\n",
    "    true_rows, false_rows = [], []\r\n",
    "    for row in rows:\r\n",
    "        if question.match(row):\r\n",
    "            true_rows.append(row)\r\n",
    "        else:\r\n",
    "            false_rows.append(row)\r\n",
    "    return true_rows, false_rows # returns a list with 2 smaller lists "
   ],
   "outputs": [],
   "metadata": {}
  },
  {
   "cell_type": "code",
   "execution_count": 599,
   "source": [
    "true_rows, false_rows = partition(train_data, Question(0, 'Red')) # unpacking our bigger data\r\n",
    "true_rows"
   ],
   "outputs": [
    {
     "output_type": "execute_result",
     "data": {
      "text/plain": [
       "[['Red', 1, 'Grape'], ['Red', 1, 'Grape']]"
      ]
     },
     "metadata": {},
     "execution_count": 599
    }
   ],
   "metadata": {}
  },
  {
   "cell_type": "code",
   "execution_count": 600,
   "source": [
    "false_rows"
   ],
   "outputs": [
    {
     "output_type": "execute_result",
     "data": {
      "text/plain": [
       "[['Green', 3, 'Mango'], ['Yellow', 3, 'Mango'], ['Yellow', 3, 'Lemon']]"
      ]
     },
     "metadata": {},
     "execution_count": 600
    }
   ],
   "metadata": {}
  },
  {
   "cell_type": "code",
   "execution_count": 601,
   "source": [
    "def gini(rows): # calculate the gini impurity \r\n",
    "    counts = class_counts(rows)\r\n",
    "    impurity = 1\r\n",
    "    for label in counts:\r\n",
    "        prob_of_label = counts[label] / float(len(rows))\r\n",
    "        impurity -= prob_of_label**2\r\n",
    "    return impurity"
   ],
   "outputs": [],
   "metadata": {}
  },
  {
   "cell_type": "code",
   "execution_count": 602,
   "source": [
    "no_mixing = [['Apples'], ['Apples']]\r\n",
    "class_counts(no_mixing)"
   ],
   "outputs": [
    {
     "output_type": "execute_result",
     "data": {
      "text/plain": [
       "{'Apples': 2}"
      ]
     },
     "metadata": {},
     "execution_count": 602
    }
   ],
   "metadata": {}
  },
  {
   "cell_type": "code",
   "execution_count": 603,
   "source": [
    "gini(no_mixing)"
   ],
   "outputs": [
    {
     "output_type": "execute_result",
     "data": {
      "text/plain": [
       "0.0"
      ]
     },
     "metadata": {},
     "execution_count": 603
    }
   ],
   "metadata": {}
  },
  {
   "cell_type": "code",
   "execution_count": 604,
   "source": [
    "some_mixing = [['Apple'], ['Orange']]\r\n",
    "class_counts(some_mixing)"
   ],
   "outputs": [
    {
     "output_type": "execute_result",
     "data": {
      "text/plain": [
       "{'Apple': 1, 'Orange': 1}"
      ]
     },
     "metadata": {},
     "execution_count": 604
    }
   ],
   "metadata": {}
  },
  {
   "cell_type": "code",
   "execution_count": 605,
   "source": [
    "gini(some_mixing)"
   ],
   "outputs": [
    {
     "output_type": "execute_result",
     "data": {
      "text/plain": [
       "0.5"
      ]
     },
     "metadata": {},
     "execution_count": 605
    }
   ],
   "metadata": {}
  },
  {
   "cell_type": "code",
   "execution_count": 606,
   "source": [
    "lots_of_mixing = [['Apple'],\r\n",
    "                  ['Apple'],\r\n",
    "                  ['Orange'],\r\n",
    "                  ['Grape'],\r\n",
    "                  ['Grapefruit'],\r\n",
    "                  ['Blueberry']]\r\n",
    "# This will return 0.8\r\n",
    "gini(lots_of_mixing)"
   ],
   "outputs": [
    {
     "output_type": "execute_result",
     "data": {
      "text/plain": [
       "0.7777777777777777"
      ]
     },
     "metadata": {},
     "execution_count": 606
    }
   ],
   "metadata": {}
  },
  {
   "cell_type": "code",
   "execution_count": 607,
   "source": [
    "def info_gain(left, right, current_uncertainty):\r\n",
    "    p = float(len(left)) / (len(left) + len(right))\r\n",
    "    return current_uncertainty - p * gini(left) - (1 - p) * gini(right)"
   ],
   "outputs": [],
   "metadata": {}
  },
  {
   "cell_type": "code",
   "execution_count": 608,
   "source": [
    "current_uncertainty = gini(train_data) # impurity\r\n",
    "current_uncertainty"
   ],
   "outputs": [
    {
     "output_type": "execute_result",
     "data": {
      "text/plain": [
       "0.6399999999999999"
      ]
     },
     "metadata": {},
     "execution_count": 608
    }
   ],
   "metadata": {}
  },
  {
   "cell_type": "code",
   "execution_count": 609,
   "source": [
    "true_rows, false_rows = partition(train_data, Question(0, 'Green'))\r\n",
    "info_gain(true_rows, false_rows, current_uncertainty)"
   ],
   "outputs": [
    {
     "output_type": "execute_result",
     "data": {
      "text/plain": [
       "0.1399999999999999"
      ]
     },
     "metadata": {},
     "execution_count": 609
    }
   ],
   "metadata": {}
  },
  {
   "cell_type": "code",
   "execution_count": 610,
   "source": [
    "true_rows, false_rows = partition(train_data, Question(0, 'Red'))\r\n",
    "info_gain(true_rows, false_rows, current_uncertainty)"
   ],
   "outputs": [
    {
     "output_type": "execute_result",
     "data": {
      "text/plain": [
       "0.37333333333333324"
      ]
     },
     "metadata": {},
     "execution_count": 610
    }
   ],
   "metadata": {}
  },
  {
   "cell_type": "markdown",
   "source": [
    "Why does Red give us more info than Green? We can find this by looking at their respective true_rows and false_rows"
   ],
   "metadata": {}
  },
  {
   "cell_type": "code",
   "execution_count": 611,
   "source": [
    "true_rows, false_rows = partition(train_data, Question(0, 'Green'))\r\n",
    "true_rows, false_rows"
   ],
   "outputs": [
    {
     "output_type": "execute_result",
     "data": {
      "text/plain": [
       "([['Green', 3, 'Mango']],\n",
       " [['Yellow', 3, 'Mango'],\n",
       "  ['Red', 1, 'Grape'],\n",
       "  ['Red', 1, 'Grape'],\n",
       "  ['Yellow', 3, 'Lemon']])"
      ]
     },
     "metadata": {},
     "execution_count": 611
    }
   ],
   "metadata": {}
  },
  {
   "cell_type": "code",
   "execution_count": 612,
   "source": [
    "true_rows, false_rows = partition(train_data, Question(0, 'Red'))\r\n",
    "true_rows, false_rows"
   ],
   "outputs": [
    {
     "output_type": "execute_result",
     "data": {
      "text/plain": [
       "([['Red', 1, 'Grape'], ['Red', 1, 'Grape']],\n",
       " [['Green', 3, 'Mango'], ['Yellow', 3, 'Mango'], ['Yellow', 3, 'Lemon']])"
      ]
     },
     "metadata": {},
     "execution_count": 612
    }
   ],
   "metadata": {}
  },
  {
   "cell_type": "markdown",
   "source": [
    "You can see the true_rows of Green is just 1 as compared to 2 of Red, while the false_rows of Green are 3 labels(2 labels) as compared to 2(1 impurity) of Red."
   ],
   "metadata": {}
  },
  {
   "cell_type": "code",
   "execution_count": 613,
   "source": [
    "# Find the best question to ask by iterating over every feature/value and calculating the information gain\r\n",
    "def find_best_split(rows):\r\n",
    "    best_gain = 0 # keeps track of best info gained\r\n",
    "    best_question = None # keeps track of the best question to ask\r\n",
    "    current_uncertainty = gini(rows)\r\n",
    "    n_features = len(rows[0]) - 1# no of columns\r\n",
    "\r\n",
    "    for col in range(n_features):\r\n",
    "        values = set([row[col] for row in rows])  # unique values in the column\r\n",
    "        for val in values:  # for each value\r\n",
    "            question = Question(col, val)\r\n",
    "            # try splitting the dataset\r\n",
    "            true_rows, false_rows = partition(rows, question)\r\n",
    "            # Skip this split if it doesn't divide the\r\n",
    "            # dataset.\r\n",
    "            if len(true_rows) == 0 or len(false_rows) == 0:\r\n",
    "                continue\r\n",
    "            # Calculate the information gain from this split\r\n",
    "            gain = info_gain(true_rows, false_rows, current_uncertainty)\r\n",
    "            # You actually can use '>' instead of '>=' here\r\n",
    "            # but I wanted the tree to look a certain way for our\r\n",
    "            # toy dataset.\r\n",
    "            if gain >= best_gain:\r\n",
    "                best_gain, best_question = gain, question\r\n",
    "    return best_gain, best_question\r\n"
   ],
   "outputs": [],
   "metadata": {}
  },
  {
   "cell_type": "code",
   "execution_count": 614,
   "source": [
    "best_gain, best_question = find_best_split(train_data)\r\n",
    "best_gain, best_question"
   ],
   "outputs": [
    {
     "output_type": "execute_result",
     "data": {
      "text/plain": [
       "(0.37333333333333324, is Diameter >= 3?)"
      ]
     },
     "metadata": {},
     "execution_count": 614
    }
   ],
   "metadata": {}
  },
  {
   "cell_type": "code",
   "execution_count": 615,
   "source": [
    "class Leaf:\r\n",
    "    \"\"\"A Leaf node classifies data.\r\n",
    "    This holds a dictionary of class (e.g., \"Apple\") -> number of times\r\n",
    "    it appears in the rows from the training data that reach this leaf.\r\n",
    "    \"\"\"\r\n",
    "    def __init__(self, rows):\r\n",
    "        self.predictions = class_counts(rows)"
   ],
   "outputs": [],
   "metadata": {}
  },
  {
   "cell_type": "code",
   "execution_count": 616,
   "source": [
    "class Decision_Node:\r\n",
    "    \"\"\"A Decision Node asks a question.\r\n",
    "    This holds a reference to the question, and to the two child nodes.\r\n",
    "    \"\"\"\r\n",
    "    def __init__(self,\r\n",
    "                 question,\r\n",
    "                 true_branch,\r\n",
    "                 false_branch):\r\n",
    "        self.question = question\r\n",
    "        self.true_branch = true_branch\r\n",
    "        self.false_branch = false_branch"
   ],
   "outputs": [],
   "metadata": {}
  },
  {
   "cell_type": "code",
   "execution_count": 617,
   "source": [
    "def build_tree(rows):\r\n",
    "    \"\"\"Builds the tree.\r\n",
    "    Rules of recursion: 1) Believe that it works. 2) Start by checking\r\n",
    "    for the base case (no further information gain). 3) Prepare for\r\n",
    "    giant stack traces.\r\n",
    "    \"\"\"\r\n",
    "    # Try partitioing the dataset on each of the unique attribute,\r\n",
    "    # calculate the information gain,\r\n",
    "    # and return the question that produces the highest gain.\r\n",
    "    gain, question = find_best_split(rows)\r\n",
    "    # Base case: no further info gain\r\n",
    "    # Since we can ask no further questions,\r\n",
    "    # we'll return a leaf.\r\n",
    "    if gain == 0:\r\n",
    "        return Leaf(rows)\r\n",
    "    # If we reach here, we have found a useful feature / value\r\n",
    "    # to partition on.\r\n",
    "    true_rows, false_rows = partition(rows, question)\r\n",
    "    # Recursively build the true branch.\r\n",
    "    true_branch = build_tree(true_rows)\r\n",
    "    # Recursively build the false branch.\r\n",
    "    false_branch = build_tree(false_rows)\r\n",
    "    # Return a Question node.\r\n",
    "    # This records the best feature / value to ask at this point,\r\n",
    "    # as well as the branches to follow\r\n",
    "    # dependingo on the answer.\r\n",
    "    return Decision_Node(question, true_branch, false_branch)"
   ],
   "outputs": [],
   "metadata": {}
  },
  {
   "cell_type": "code",
   "execution_count": 618,
   "source": [
    "def print_tree(node, spacing=\"\"):\r\n",
    "    \"\"\"World's most elegant tree printing function.\"\"\"\r\n",
    "    # Base case: we've reached a leaf\r\n",
    "    if isinstance(node, Leaf):\r\n",
    "        print (spacing + \"Predict\", node.predictions)\r\n",
    "        return\r\n",
    "    # Print the question at this node\r\n",
    "    print (spacing + str(node.question))\r\n",
    "    # Call this function recursively on the true branch\r\n",
    "    print (spacing + '--> True:')\r\n",
    "    print_tree(node.true_branch, spacing + \"  \")\r\n",
    "    # Call this function recursively on the false branch\r\n",
    "    print (spacing + '--> False:')\r\n",
    "    print_tree(node.false_branch, spacing + \"  \")"
   ],
   "outputs": [],
   "metadata": {}
  },
  {
   "cell_type": "code",
   "execution_count": 619,
   "source": [
    "my_tree = build_tree(train_data)\r\n",
    "print_tree(my_tree)"
   ],
   "outputs": [
    {
     "output_type": "stream",
     "name": "stdout",
     "text": [
      "is Diameter >= 3?\n",
      "--> True:\n",
      "  is Color == Yellow?\n",
      "  --> True:\n",
      "    Predict {'Mango': 1, 'Lemon': 1}\n",
      "  --> False:\n",
      "    Predict {'Mango': 1}\n",
      "--> False:\n",
      "  Predict {'Grape': 2}\n"
     ]
    }
   ],
   "metadata": {}
  },
  {
   "cell_type": "code",
   "execution_count": 620,
   "source": [
    "\r\n",
    "def classify(row, node):\r\n",
    "    \"\"\"See the 'rules of recursion' above.\"\"\"\r\n",
    "    # Base case: we've reached a leaf\r\n",
    "    if isinstance(node, Leaf):\r\n",
    "        return node.predictions\r\n",
    "    # Decide whether to follow the true-branch or the false-branch.\r\n",
    "    # Compare the feature / value stored in the node,\r\n",
    "    # to the example we're considering.\r\n",
    "    if node.question.match(row):\r\n",
    "        return classify(row, node.true_branch)\r\n",
    "    else:\r\n",
    "        return classify(row, node.false_branch)"
   ],
   "outputs": [],
   "metadata": {}
  },
  {
   "cell_type": "code",
   "execution_count": 621,
   "source": [
    "classify(train_data[0], my_tree)"
   ],
   "outputs": [
    {
     "output_type": "execute_result",
     "data": {
      "text/plain": [
       "{'Mango': 1}"
      ]
     },
     "metadata": {},
     "execution_count": 621
    }
   ],
   "metadata": {}
  },
  {
   "cell_type": "code",
   "execution_count": 622,
   "source": [
    "def print_leaf(counts):\r\n",
    "    \"\"\"A nicer way to print the predictions at a leaf.\"\"\"\r\n",
    "    total = sum(counts.values()) * 1.0\r\n",
    "    probs = {}\r\n",
    "    for label in counts.keys():\r\n",
    "        probs[label] = str(int(counts[label] / total * 100)) + \"%\"\r\n",
    "    return probs"
   ],
   "outputs": [],
   "metadata": {}
  },
  {
   "cell_type": "code",
   "execution_count": 623,
   "source": [
    "print_leaf(classify(train_data[0], my_tree))"
   ],
   "outputs": [
    {
     "output_type": "execute_result",
     "data": {
      "text/plain": [
       "{'Mango': '100%'}"
      ]
     },
     "metadata": {},
     "execution_count": 623
    }
   ],
   "metadata": {}
  },
  {
   "cell_type": "code",
   "execution_count": 624,
   "source": [
    "print_leaf(classify(train_data[1], my_tree))"
   ],
   "outputs": [
    {
     "output_type": "execute_result",
     "data": {
      "text/plain": [
       "{'Mango': '50%', 'Lemon': '50%'}"
      ]
     },
     "metadata": {},
     "execution_count": 624
    }
   ],
   "metadata": {}
  },
  {
   "cell_type": "code",
   "execution_count": 625,
   "source": [
    "test_data = [\r\n",
    "    ['Green', 3, 'Apple'],\r\n",
    "    ['Yellow', 4, 'Apple'],\r\n",
    "    ['Red', 2, 'Grape'],\r\n",
    "    ['Red', 1, 'Grape'],\r\n",
    "    ['Yellow', 3, 'Lemon'],\r\n",
    "]"
   ],
   "outputs": [],
   "metadata": {}
  },
  {
   "cell_type": "code",
   "execution_count": 626,
   "source": [
    "\r\n",
    "for row in test_data:\r\n",
    "    print (\"Actual: %s. Predicted: %s\" %\r\n",
    "           (row[-1], print_leaf(classify(row, my_tree))))"
   ],
   "outputs": [
    {
     "output_type": "stream",
     "name": "stdout",
     "text": [
      "Actual: Apple. Predicted: {'Mango': '100%'}\n",
      "Actual: Apple. Predicted: {'Mango': '50%', 'Lemon': '50%'}\n",
      "Actual: Grape. Predicted: {'Grape': '100%'}\n",
      "Actual: Grape. Predicted: {'Grape': '100%'}\n",
      "Actual: Lemon. Predicted: {'Mango': '50%', 'Lemon': '50%'}\n"
     ]
    }
   ],
   "metadata": {}
  }
 ],
 "metadata": {
  "orig_nbformat": 4,
  "language_info": {
   "name": "python"
  }
 },
 "nbformat": 4,
 "nbformat_minor": 2
}